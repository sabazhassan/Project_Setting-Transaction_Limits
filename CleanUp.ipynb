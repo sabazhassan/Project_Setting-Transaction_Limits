{
 "cells": [
  {
   "cell_type": "code",
   "execution_count": null,
   "metadata": {},
   "outputs": [],
   "source": [
    "business = [\"self\",\"owner\",\"entrep\",\"real\",\"business\",\"self\",\"free\",\"retail\",\"private\",\"property\",\"busiunes ownr\",\"bussinessman\",'interpreneur',\"ower\"]\n",
    "tech = [\"engineer\",\"it\",\"software\",\"program\",\"web\",\"data\",\"analy\",\"tech\",\"dev\",\"network\",\"computer\",\"code\",\"solutions\",\"crypt\",\"google\", \"system\"]\n",
    "acad = [\"student\",\"teacher\",\"professor\",\"research\",\"education\",\"research scientist\",\"educator\",\"tutor\",\"lecturer\",\"university\",\"university\",\"university\",\"academic staff\",\"accounting major\"]\n",
    "accounting = [\"accountant\", \"accounting\", \"cpa\"]\n",
    "construction = [\"construction\",\"civil\",\"builder\",\"console shift supervisor\"]\n",
    "consultant = [\"sales\",\"consul\",\"advisor\",\"business development\",\"customer service\",\"technical account manager\",\"risk management\",\"conusltant\"]\n",
    "finance = [\"invest\",\"finan\",\"trade\",\"bank\",\"finance\",\"trading\",\"hedge\",\"strategist\",\"fintech\",\"asset\",\"economist\",\n",
    "           \"statistician\",\"wealth manager\",\"quant\",\"finnancial officer\"]\n",
    "health = [\"physician\",\"pharm\",\"dentist\",\"doctor\",\"nurse\",'rn/nursing',\"health\",\"med\",\"optometrist\",\"surgeon\",\"veterinarian\",\n",
    "          \"orthodontist\",\"radiologist\",\"physical therapist\",\"prosthetist\",\"endodontist\",\"patient care technician\",\"optical technician\",\"radiologic technologist\",\"prepress technician\",\n",
    "          \"post doc fellow\",\"postdoc/acadamic\",\"lab tech\",\"emergency physician\",\"podiatrist\",\"anesthesia\"]\n",
    "management  = [\"manag\",\"mgr\",\"head\",\"ceo\",\"director\",\"executive\",\"cto\",\"president\",\"coo\",\"cfo\",\"venture\",\"md\",\"founder\",\"vp\",\"cio\",\"chief\",\"partner\",\"cmo\",\"vc\",\"v.p\"]\n",
    "writer = [\"writer\",\"underwriter\",\"copywriter\",\"travel writer\",\"web writing\",\"writing\",\"underwritter\",\"insurance underwriter\",\"freelance writer\"]"
   ]
  },
  {
   "cell_type": "code",
   "execution_count": null,
   "metadata": {},
   "outputs": [],
   "source": [
    "insurance = [\"insurance\"]\n",
    "law = [\"attorney\",\"law\",\"attorney\",\"legal\"]\n",
    "architect = [\"architect\"]\n",
    "artist = [\"artist\", '3d' ]\n",
    "driver = [\"driv\"]\n",
    "designer = [\"design\"]\n",
    "marketing =  [\"market\", \"advertising\"]\n",
    "musician = [\"music\", \"song\",\"entertainment\"]"
   ]
  },
  {
   "cell_type": "code",
   "execution_count": null,
   "metadata": {},
   "outputs": [],
   "source": [
    "military = [\"military\"]\n",
    "photographer = [\"photographer\"]\n",
    "pilot = [\"pilot\"]\n",
    "retired = [\"retired\"]\n",
    "sports = [\"poker\", \"athlete\"]\n",
    "unemployed = [\"unemployed\",\"n/a\",\"none\",\"na\"]"
   ]
  },
  {
   "cell_type": "code",
   "execution_count": null,
   "metadata": {},
   "outputs": [],
   "source": [
    "state_dict = {'hong kong':'others','são paulo':'sp','hk':'others','guangdong province,china':'china','shanghai':'china',\n",
    "            'n.a':'others','new territories':'nt', 'guangdong':'china','n.t':'nt','not applicable':'others','0':'others',\n",
    "             'hong kong island':'others', 'kln':'others', 'nil':'others', 'n.t.':'nt', 'hkg':'others','singapore':'others',\n",
    "             '852':'others','-none-': 'others'\n",
    "            }"
   ]
  },
  {
   "cell_type": "code",
   "execution_count": null,
   "metadata": {},
   "outputs": [],
   "source": [
    "transfers_agg_dict = {'CURRENCY_currency_1':'max', \n",
    "                    'CURRENCY_currency_2':'max', 'CURRENCY_currency_3':'max', 'CURRENCY_currency_4':'max',\n",
    "       'CURRENCY_currency_5':'max', 'CURRENCY_currency_6':'max','TX_YEAR_2017':'max',\n",
    "       'TX_YEAR_2018':'max', 'TX_YEAR_2019':'max','AMOUNT':'sum', 'TYPE_type_1':'max',\n",
    "       'TYPE_type_2':'max', 'TYPE_type_3':'max', 'TYPE_type_4':'max', 'TYPE_type_5' :'max' }"
   ]
  }
 ],
 "metadata": {
  "kernelspec": {
   "display_name": "Python 3",
   "language": "python",
   "name": "python3"
  },
  "language_info": {
   "codemirror_mode": {
    "name": "ipython",
    "version": 3
   },
   "file_extension": ".py",
   "mimetype": "text/x-python",
   "name": "python",
   "nbconvert_exporter": "python",
   "pygments_lexer": "ipython3",
   "version": "3.8.5"
  }
 },
 "nbformat": 4,
 "nbformat_minor": 4
}
